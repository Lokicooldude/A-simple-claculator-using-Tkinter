{
 "cells": [
  {
   "cell_type": "code",
   "execution_count": 1,
   "metadata": {},
   "outputs": [],
   "source": [
    "from tkinter import *\n",
    "root=Tk()\n",
    "mylabel=Label(root,text='hello windows!!!')\n",
    "mylabel.pack()\n",
    "root.mainloop()"
   ]
  },
  {
   "cell_type": "code",
   "execution_count": 2,
   "metadata": {},
   "outputs": [],
   "source": [
    "#gridsystem\n",
    "from tkinter import *\n",
    "root=Tk()\n",
    "mylabel=Label(root,text='hello windows!!!')\n",
    "mylabel1=Label(root,text='my name is lokesh')\n",
    "mylabel.grid(row=0,column=0)\n",
    "mylabel1.grid(row=1,column=0)\n",
    "root.mainloop()\n"
   ]
  },
  {
   "cell_type": "code",
   "execution_count": 15,
   "metadata": {},
   "outputs": [],
   "source": [
    "from tkinter import *\n",
    "root=Tk()\n",
    "def myclick():\n",
    "    myLabel=Label(root,text='button clicked')\n",
    "    myLabel.pack()\n",
    "mybutton=Button(root,text='click me',command=myclick,fg='blue',bg='yellow')\n",
    "mybutton.pack()\n",
    "root.mainloop()"
   ]
  },
  {
   "cell_type": "code",
   "execution_count": 25,
   "metadata": {},
   "outputs": [],
   "source": [
    "#creating inputfields\n",
    "from tkinter import *\n",
    "root=Tk()\n",
    "input=Entry(root,width=50,borderwidth=5)\n",
    "input.pack()\n",
    "input.get()\n",
    "input.insert(0,'enter your name')\n",
    "def myclick():\n",
    "    myLabel=Label(root,text='Hello'+input.get())\n",
    "    myLabel.pack()\n",
    "mybutton=Button(root,text='submit',command=myclick,fg='blue',bg='yellow')\n",
    "mybutton.pack()\n",
    "root.mainloop()\n"
   ]
  },
  {
   "cell_type": "markdown",
   "metadata": {},
   "source": [
    "#simple calculator"
   ]
  },
  {
   "cell_type": "code",
   "execution_count": null,
   "metadata": {},
   "outputs": [],
   "source": [
    "from tkinter import *\n",
    "root=Tk()\n",
    "root.title('simple calculator')\n",
    "e=Entry(root,width=35,borderwidth=5)\n",
    "e.grid(row=0,column=0,columnspan=3,padx=10,pady=10)\n",
    "def button_click(number):\n",
    "    #e.delete(0,END)\n",
    "    current=e.get()\n",
    "    e.delete(0,END)\n",
    "    e.insert(0,str(current)+str(number))\n",
    "def button_clear():\n",
    "    e.delete(0,END)\n",
    "def button_add():\n",
    "    first_number=e.get()\n",
    "    global f_num\n",
    "    global math\n",
    "    math='add'\n",
    "    f_num=int(first_number)\n",
    "    e.delete(0,END)\n",
    "def button_equal():\n",
    "    second_number=e.get()\n",
    "    \n",
    "    e.delete(0,END)\n",
    "    if(math=='add'):\n",
    "        e.insert(0,int(f_num)+int(second_number))\n",
    "    if(math=='sub'):\n",
    "        e.insert(0,int(f_num)-int(second_number))\n",
    "    if(math=='mul'):\n",
    "        e.insert(0,int(f_num)*int(second_number))\n",
    "    if(math=='div'):\n",
    "        e.insert(0,int(f_num)/int(second_number))\n",
    "def button_sub():\n",
    "    first_number=e.get()\n",
    "    global f_num\n",
    "    global math\n",
    "    math='sub'\n",
    "    f_num=int(first_number)\n",
    "    e.delete(0,END)\n",
    "    \n",
    "def button_mul():\n",
    "    \n",
    "    first_number=e.get()\n",
    "    global f_num\n",
    "    global math\n",
    "    math='mul'\n",
    "    f_num=int(first_number)\n",
    "    e.delete(0,END)\n",
    "def button_div():\n",
    "    first_number=e.get()\n",
    "    global f_num\n",
    "    global math\n",
    "    math='div'\n",
    "    f_num=int(first_number)\n",
    "    e.delete(0,END)\n",
    "    \n",
    "    \n",
    "    \n",
    "\n",
    "b1=Button(root,text=1,padx=40,pady=20,command=lambda:button_click(1))\n",
    "b2=Button(root,text=2,padx=40,pady=20,command=lambda:button_click(2))\n",
    "b3=Button(root,text=3,padx=40,pady=20,command=lambda:button_click(3))\n",
    "b4=Button(root,text=4,padx=40,pady=20,command=lambda:button_click(4))\n",
    "b5=Button(root,text=5,padx=40,pady=20,command=lambda:button_click(5))\n",
    "b6=Button(root,text=6,padx=40,pady=20,command=lambda:button_click(6))\n",
    "b7=Button(root,text=7,padx=40,pady=20,command=lambda:button_click(7))\n",
    "b8=Button(root,text=8,padx=40,pady=20,command=lambda:button_click(8))\n",
    "b9=Button(root,text=9,padx=40,pady=20,command=lambda:button_click(9))\n",
    "b0=Button(root,text=0,padx=40,pady=20,command=lambda:button_click(0))\n",
    "badd=Button(root,text='+',padx=40,pady=20,command=button_add)\n",
    "bequal=Button(root,text='=',padx=40,pady=20,command=button_equal)\n",
    "bclear=Button(root,text='clear',padx=40,pady=20,command=button_clear)\n",
    "bsub=Button(root,text='-',padx=40,pady=20,command=button_sub)\n",
    "bmul=Button(root,text='*',padx=40,pady=20,command=button_mul)\n",
    "bdiv=Button(root,text='/',padx=40,pady=20,command=button_div)\n",
    "    \n",
    "\n",
    "#put the buttons on screen\n",
    "b1.grid(row=3,column=0)\n",
    "b2.grid(row=3,column=1)\n",
    "b3.grid(row=3,column=2)\n",
    "\n",
    "b4.grid(row=2,column=0)\n",
    "b5.grid(row=2,column=1)\n",
    "b6.grid(row=2,column=2)\n",
    "\n",
    "b7.grid(row=1,column=0)\n",
    "b8.grid(row=1,column=1)\n",
    "b9.grid(row=1,column=2)\n",
    "\n",
    "b0.grid(row=4,column=0)\n",
    "bequal.grid(row=6,column=2)\n",
    "bclear.grid(row=4,column=2)\n",
    "\n",
    "badd.grid(row=5,column=0)\n",
    "bsub.grid(row=5,column=1)\n",
    "bmul.grid(row=5,column=2)\n",
    "bdiv.grid(row=4,column=1)\n",
    "\n",
    "\n",
    "\n",
    "\n",
    "root.mainloop()\n"
   ]
  },
  {
   "cell_type": "code",
   "execution_count": null,
   "metadata": {},
   "outputs": [],
   "source": [
    "\n",
    "   \n",
    "    \n",
    "\n"
   ]
  },
  {
   "cell_type": "code",
   "execution_count": null,
   "metadata": {},
   "outputs": [],
   "source": [
    "\n",
    "\n",
    "    "
   ]
  },
  {
   "cell_type": "code",
   "execution_count": null,
   "metadata": {},
   "outputs": [],
   "source": []
  },
  {
   "cell_type": "code",
   "execution_count": null,
   "metadata": {},
   "outputs": [],
   "source": []
  },
  {
   "cell_type": "code",
   "execution_count": null,
   "metadata": {},
   "outputs": [],
   "source": []
  }
 ],
 "metadata": {
  "kernelspec": {
   "display_name": "Python 3",
   "language": "python",
   "name": "python3"
  },
  "language_info": {
   "codemirror_mode": {
    "name": "ipython",
    "version": 3
   },
   "file_extension": ".py",
   "mimetype": "text/x-python",
   "name": "python",
   "nbconvert_exporter": "python",
   "pygments_lexer": "ipython3",
   "version": "3.7.7"
  }
 },
 "nbformat": 4,
 "nbformat_minor": 2
}
